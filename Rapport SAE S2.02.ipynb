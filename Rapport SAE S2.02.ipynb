{
 "cells": [
  {
   "cell_type": "markdown",
   "id": "6f04f881",
   "metadata": {},
   "source": [
    "# Rapport SAE S2.02"
   ]
  },
  {
   "cell_type": "code",
   "execution_count": 2,
   "id": "cdb0fdf0",
   "metadata": {},
   "outputs": [],
   "source": [
    "# Importations des bibliothèques utilisées dans le rapport\n",
    "import numpy as np\n",
    "import random"
   ]
  },
  {
   "cell_type": "markdown",
   "id": "aad82e72",
   "metadata": {},
   "source": [
    "Groupe G4-E : \n",
    "    Bougeard Bastien,\n",
    "    Delin Alexis,\n",
    "    Rouge Gabriel"
   ]
  },
  {
   "cell_type": "markdown",
   "id": "66df0521",
   "metadata": {},
   "source": [
    "## Partie 1 : PageRank - version itérative, premier exemple"
   ]
  },
  {
   "cell_type": "markdown",
   "id": "346c764f",
   "metadata": {},
   "source": [
    "### 1)"
   ]
  },
  {
   "cell_type": "markdown",
   "id": "035dedc7",
   "metadata": {},
   "source": [
    "Une fois ce graphe converti en matrice d'adjacence, nous pouvons lui appliquer l'algorithme de la puissance itérée. Il sert à trouver une approximation du vecteur propre d'une matrice. Ainsi, chaque valeur propre du vecteur correspond à un sommet, soit au score de la page Web signifiée par ledit sommet. Ainsi, cet algorithme permet de trouver le score approximatif de chaque site traduit sur le graphe donné."
   ]
  },
  {
   "cell_type": "markdown",
   "id": "343a5b80",
   "metadata": {},
   "source": [
    "### 2)"
   ]
  },
  {
   "cell_type": "code",
   "execution_count": 3,
   "id": "801343d1",
   "metadata": {},
   "outputs": [],
   "source": [
    "def norme (X) :\n",
    "    # Donne la norme de X\n",
    "    # X : vecteur\n",
    "    res = 0\n",
    "    for i in X :\n",
    "        res += i**2\n",
    "    return np.sqrt(res)\n",
    "\n",
    "def matriceDeTransition(q):\n",
    "    # Donne la matrice de tranisition correspondante\n",
    "    # q : matrice d'adjacence \n",
    "    # N : ordre de la matrice q\n",
    "    # Q : matrice de transition (résultat)\n",
    "    #  - .dot permet de faire un produit de deux np.array\n",
    "    #  - .sum fait la somme des éléments d'un np.array\n",
    "    N = len(q)\n",
    "    Q = np.zeros((N,N))\n",
    "    for i in range(N):\n",
    "        for j in range(N):\n",
    "            Nj = np.sum(q[i])\n",
    "            if Nj!=0:\n",
    "                Q[i][j] = q[i][j]/Nj\n",
    "    return Q\n",
    "\n",
    "def puissanceIteree(M, seuil):\n",
    "    # Algorithme de puissance itérée\n",
    "    # M : matrice\n",
    "    # x : vecteur pris aléatoirement dans M\n",
    "    # x1 : vecteur\n",
    "    # seuil : très petit nombre décimal tel 1e-10\n",
    "    x = M[random.randint(0,len(M)-1)]\n",
    "    x1 = 1/norme(x.dot(M))*x.dot(M)\n",
    "    while norme(x1-x) > seuil  :\n",
    "        x = x1\n",
    "        x1 = 1/norme(x.dot(M))*x.dot(M)\n",
    "    return x1\n"
   ]
  },
  {
   "cell_type": "code",
   "execution_count": 4,
   "id": "694a4ced",
   "metadata": {},
   "outputs": [
    {
     "name": "stdout",
     "output_type": "stream",
     "text": [
      "[0.41959068 0.16783627 0.16783627 0.16783627 0.16783627 0.50350881\n",
      " 0.16783627 0.33567254 0.16783627 0.41959068 0.16783627 0.16783627\n",
      " 0.16783627 0.16783627]\n"
     ]
    }
   ],
   "source": [
    "# Matrice d'adjascence du graphe donné où N = 14\n",
    "graph1 = np.array([[0,1,1,1,1,1,0,0,0,0,0,0,0,0]\n",
    "                  ,[1,0,1,0,0,0,0,0,0,0,0,0,0,0]\n",
    "                  ,[1,0,0,1,0,0,0,0,0,0,0,0,0,0]\n",
    "                  ,[1,0,0,0,1,0,0,0,0,0,0,0,0,0]\n",
    "                  ,[1,1,0,0,0,0,0,0,0,0,0,0,0,0]\n",
    "                  ,[0,0,0,0,0,0,1,1,1,0,0,0,0,0]\n",
    "                  ,[1,0,0,0,0,0,0,1,0,0,0,0,0,0]\n",
    "                  ,[0,0,0,0,0,1,0,0,0,0,0,0,0,0]\n",
    "                  ,[0,0,0,0,0,0,0,1,0,1,0,0,0,0]\n",
    "                  ,[0,0,0,0,0,1,0,0,0,0,1,1,1,1]\n",
    "                  ,[0,0,0,0,0,0,0,0,0,1,0,1,0,0]\n",
    "                  ,[0,0,0,0,0,0,0,0,0,1,0,0,1,0]\n",
    "                  ,[0,0,0,0,0,0,0,0,0,1,0,0,0,1]\n",
    "                  ,[0,0,0,0,0,0,0,0,0,1,1,0,0,0]])\n",
    "\n",
    "tmpMat = matriceDeTransition(graph1)\n",
    "print(puissanceIteree(tmpMat, 1e-10))"
   ]
  },
  {
   "cell_type": "markdown",
   "id": "33fa64e1",
   "metadata": {},
   "source": [
    "### 3)"
   ]
  },
  {
   "cell_type": "markdown",
   "id": "7f9a868e",
   "metadata": {},
   "source": [
    "Le vecteur propre est comme attendu d'ordre N (14) soit l'ordre du graphe que représente la matrice d'adjacence. Ainsi, chaque valeur propre correspond au score d'un sommet du graphe. \n",
    "\n",
    "On observe en effet que le sommet 1, 6 et 8 ont un score plus élevé que les autres puisqu'ils ont une quantité importante d'arcs orientés vers eux. A l'inverse, les autres sommets ont tous un seul arc entrant et ont donc tous le même score ( environ 1,7 ).\n",
    "\n",
    "Puisque le résultat est cohérent, on en déduit que l'algorithme implémenté fonctionne, jusqu'à preuve du contraire."
   ]
  },
  {
   "cell_type": "markdown",
   "id": "11837a74",
   "metadata": {},
   "source": [
    "## Partie 2 : PageRank - version itérative, deuxième exemple"
   ]
  },
  {
   "cell_type": "markdown",
   "id": "797a9af0",
   "metadata": {},
   "source": [
    "### 1)"
   ]
  },
  {
   "cell_type": "code",
   "execution_count": 5,
   "id": "330572c4",
   "metadata": {},
   "outputs": [],
   "source": [
    "# Matrice d'adjascence du graphe donné où N = 5\n",
    "graph2 = np.array([[0,0,0,0,0],\n",
    "                  [1,0,0,0,0],\n",
    "                  [1,0,0,0,0],\n",
    "                  [1,1,1,0,0],\n",
    "                  [1,1,0,0,0]])"
   ]
  },
  {
   "cell_type": "code",
   "execution_count": 6,
   "id": "e5ca9399",
   "metadata": {},
   "outputs": [
    {
     "name": "stdout",
     "output_type": "stream",
     "text": [
      "[nan nan nan nan nan]\n"
     ]
    },
    {
     "name": "stderr",
     "output_type": "stream",
     "text": [
      "C:\\Users\\Gabriel\\AppData\\Local\\Temp\\ipykernel_9832\\3374912937.py:35: RuntimeWarning: divide by zero encountered in double_scalars\n",
      "  x1 = 1/norme(x.dot(M))*x.dot(M)\n",
      "C:\\Users\\Gabriel\\AppData\\Local\\Temp\\ipykernel_9832\\3374912937.py:35: RuntimeWarning: invalid value encountered in multiply\n",
      "  x1 = 1/norme(x.dot(M))*x.dot(M)\n"
     ]
    }
   ],
   "source": [
    "tmpMat = matriceDeTransition(graph2)\n",
    "print(puissanceIteree(tmpMat, 1e-10))"
   ]
  },
  {
   "cell_type": "markdown",
   "id": "3940923b",
   "metadata": {},
   "source": [
    "On observe que la fonction provoque avec ce graphe en paramètre un message d'erreur de type division par 0. \n",
    "\n",
    "Le seul endroit où une division est faite est à cette ligne : \n",
    "\n",
    "    x1 = 1/norme(x.dot(M))*x.dot(M)\n",
    "Il n'y a qu'une seule division dans cette ligne. Ainsi, pour que \"1/norme(x.dot(M))\\*x.dot(M)\" soit égal à 0, soit le produit de M et de x est nul, soit la norme de ce produit est nulle. La fonction norme(X) n'effectue aucune opération susceptible de rendre son résultat nul (aucune addition/soustraction, ...). On en conclue qu'il s'agit du produit de x et M qui est nul, ainsi, au moins l'une de ces deux valeur est nulle. Rappelons que x est un vecteur pris aléatoirement dans la matrice M.\n",
    "\n",
    "On remarque que la matrice d'adjacence de ce graphe présente en effet au moins une entrée composée de 5 zéros (où N = 5). Il est donc certain que x prenne à un moment donné la valeur de [0,0,0,0,0]. Là est l'origine de l'erreur.\n",
    "\n",
    "On en conclue que notre algorithme est à revoir puisqu'il ne devrait pas présenter d'erreur. Des modifications à la fonction \"matriceDeTransition(q)\" sont à apporter."
   ]
  },
  {
   "cell_type": "markdown",
   "id": "598540c9",
   "metadata": {},
   "source": [
    "### 2)"
   ]
  },
  {
   "cell_type": "code",
   "execution_count": 7,
   "id": "5e85ca47",
   "metadata": {},
   "outputs": [],
   "source": [
    "def matriceDeTransitionV2(p, alpha):\n",
    "    # Donne la matrice de tranisition correspondante, version améliorée\n",
    "    # p : matrice d'adjacence \n",
    "    # N : ordre de la matrice p\n",
    "    # P : matrice de transition (résultat)\n",
    "    # alpha : facteur d'amortissement\n",
    "    N = len(p)\n",
    "    P = np.zeros((N,N))\n",
    "    for i in range(N):\n",
    "        for j in range(N):\n",
    "            Nj = np.count_nonzero(p[i])\n",
    "            if Nj!=0:\n",
    "                P[i][j] = alpha*p[i][j]+((1-alpha)/N)\n",
    "            else:\n",
    "                P[i][j] = 1/N\n",
    "    return P"
   ]
  },
  {
   "cell_type": "code",
   "execution_count": 8,
   "id": "cafd80cf",
   "metadata": {},
   "outputs": [
    {
     "name": "stdout",
     "output_type": "stream",
     "text": [
      "[0.848723   0.38834904 0.27552341 0.16269779 0.16269779]\n"
     ]
    }
   ],
   "source": [
    "tmpMat = matriceDeTransitionV2(graph2, 0.85)\n",
    "print(puissanceIteree(tmpMat, 1e-10))"
   ]
  },
  {
   "cell_type": "markdown",
   "id": "df9fbfd3",
   "metadata": {},
   "source": [
    "Avec cette nouvelle matrice de tansition, le problème rencontré ne survient plus. \n",
    "\n",
    "On remarque encore une fois que le score est cohérent ; le sommet 1 a le plus haut score et la plus grande quantité d'arcs entrants, les sommets 4 et 5 n'ont aucun arc entrant et ont le plus petit score... \n",
    "\n",
    "Ainsi, et encore une fois jusqu'à preuve du contraire, on en déduit que l'algorithme fonctionne. "
   ]
  },
  {
   "cell_type": "markdown",
   "id": "ede967dd",
   "metadata": {},
   "source": [
    "Formons de cette manière la fonction PageRank qui sera utilisée dans le reste du rapport : "
   ]
  },
  {
   "cell_type": "code",
   "execution_count": 9,
   "id": "f9c01f84",
   "metadata": {},
   "outputs": [],
   "source": [
    "def PageRank (matrice, alpha, seuil) :\n",
    "    return puissanceIteree(matriceDeTransitionV2(matrice, alpha), seuil)"
   ]
  },
  {
   "cell_type": "markdown",
   "id": "eefc3690",
   "metadata": {},
   "source": [
    "## Partie 3 : PageRank - version itérative, analyse"
   ]
  },
  {
   "cell_type": "markdown",
   "id": "6c7ccfa0",
   "metadata": {},
   "source": [
    "### 1) Influence du critère d'arrêt (seuil)"
   ]
  },
  {
   "cell_type": "markdown",
   "id": "e5c8be3e",
   "metadata": {},
   "source": [
    "Pour analyser l'influence du seuil dans l'algorithme de puissance iterée, nous devons prendre un seul graphe  et un seul facteur d'amortissement sur lesquels on va faire varier le seuil afin d'observer les résultats.\n",
    "\n",
    "Ensuite, nous ferons une conclusion en comparant ces résultats et déduisant le sens de ces différences."
   ]
  },
  {
   "cell_type": "markdown",
   "id": "c4dc3ab9",
   "metadata": {},
   "source": [
    "##### Variation avec seuil entre 1e-2 et 1e-10 : seuil petit"
   ]
  },
  {
   "cell_type": "code",
   "execution_count": 14,
   "id": "a4aa273c",
   "metadata": {},
   "outputs": [
    {
     "name": "stdout",
     "output_type": "stream",
     "text": [
      "Seuil = 1e- 2  : \n",
      " [0.34677892 0.65276494 0.33475327 0.33475327 0.33475327 0.33876182\n",
      " 0.01273304 0.02075014 0.01273304 0.02876724 0.01674159 0.01674159\n",
      " 0.01674159 0.01674159]\n",
      "Seuil = 1e- 4  : \n",
      " [0.02876724 0.01674159 0.01674159 0.01674159 0.01674159 0.33876182\n",
      " 0.01273304 0.02075014 0.01273304 0.34677892 0.65276494 0.33475327\n",
      " 0.33475327 0.33475327]\n",
      "Seuil = 1e- 6  : \n",
      " [0.03061174 0.35621697 0.35621697 0.35621697 0.35621697 0.69888447\n",
      " 0.01354946 0.0220806  0.01354946 0.03061174 0.01781503 0.01781503\n",
      " 0.01781503 0.01781503]\n",
      "Seuil = 1e- 8  : \n",
      " [0.34677892 0.65276494 0.33475327 0.33475327 0.33475327 0.33876182\n",
      " 0.01273304 0.02075014 0.01273304 0.02876724 0.01674159 0.01674159\n",
      " 0.01674159 0.01674159]\n",
      "Seuil = 1e- 10  : \n",
      " [0.02545258 0.01794922 0.01794922 0.01794922 0.01794922 0.02045034\n",
      " 0.21387031 0.21887255 0.21387031 0.81914142 0.21637143 0.21637143\n",
      " 0.21637143 0.21637143]\n"
     ]
    }
   ],
   "source": [
    "for i in range (2,12,2) : \n",
    "    seuil = 1*10**i\n",
    "    print(\"Seuil = 1e-\",i,\" : \\n\",PageRank(graph1, 0.85, seuil))"
   ]
  },
  {
   "cell_type": "markdown",
   "id": "b4ca1179",
   "metadata": {},
   "source": [
    "##### Variation avec seuil entre 1e-20 et 1e-200 : seuil très petit"
   ]
  },
  {
   "cell_type": "code",
   "execution_count": 11,
   "id": "603de220",
   "metadata": {},
   "outputs": [
    {
     "name": "stdout",
     "output_type": "stream",
     "text": [
      "Seuil = 1e- 40  : \n",
      " [0.02876724 0.01674159 0.01674159 0.01674159 0.01674159 0.33876182\n",
      " 0.01273304 0.02075014 0.01273304 0.34677892 0.65276494 0.33475327\n",
      " 0.33475327 0.33475327]\n",
      "Seuil = 1e- 80  : \n",
      " [0.81914142 0.21637143 0.21637143 0.21637143 0.21637143 0.02045034\n",
      " 0.21387031 0.21887255 0.21387031 0.02545258 0.01794922 0.01794922\n",
      " 0.01794922 0.01794922]\n",
      "Seuil = 1e- 120  : \n",
      " [0.02876724 0.01674159 0.01674159 0.01674159 0.01674159 0.33876182\n",
      " 0.01273304 0.02075014 0.01273304 0.34677892 0.33475327 0.65276494\n",
      " 0.33475327 0.33475327]\n",
      "Seuil = 1e- 160  : \n",
      " [0.81914142 0.21637143 0.21637143 0.21637143 0.21637143 0.02045034\n",
      " 0.21387031 0.21887255 0.21387031 0.02545258 0.01794922 0.01794922\n",
      " 0.01794922 0.01794922]\n",
      "Seuil = 1e- 200  : \n",
      " [0.02876724 0.01674159 0.01674159 0.01674159 0.01674159 0.33876182\n",
      " 0.01273304 0.02075014 0.01273304 0.34677892 0.33475327 0.33475327\n",
      " 0.33475327 0.65276494]\n"
     ]
    }
   ],
   "source": [
    "for i in range (40,201,40) : \n",
    "    seuil = 1*10**i\n",
    "    print(\"Seuil = 1e-\",i,\" : \\n\",PageRank(graph1, 0.85, seuil))"
   ]
  },
  {
   "cell_type": "markdown",
   "id": "17385bda",
   "metadata": {},
   "source": [
    "##### Variation avec seuil entre 40 et 200 : seuil grand"
   ]
  },
  {
   "cell_type": "code",
   "execution_count": 17,
   "id": "b44fbd6c",
   "metadata": {},
   "outputs": [
    {
     "name": "stdout",
     "output_type": "stream",
     "text": [
      "Seuil = 2  : \n",
      " [0.81914142 0.21637143 0.21637143 0.21637143 0.21637143 0.02045034\n",
      " 0.21387031 0.21887255 0.21387031 0.02545258 0.01794922 0.01794922\n",
      " 0.01794922 0.01794922]\n",
      "Seuil = 4  : \n",
      " [0.81914142 0.21637143 0.21637143 0.21637143 0.21637143 0.02045034\n",
      " 0.21387031 0.21887255 0.21387031 0.02545258 0.01794922 0.01794922\n",
      " 0.01794922 0.01794922]\n",
      "Seuil = 6  : \n",
      " [0.34677892 0.33475327 0.33475327 0.65276494 0.33475327 0.33876182\n",
      " 0.01273304 0.02075014 0.01273304 0.02876724 0.01674159 0.01674159\n",
      " 0.01674159 0.01674159]\n",
      "Seuil = 8  : \n",
      " [0.03061174 0.35621697 0.35621697 0.35621697 0.35621697 0.69888447\n",
      " 0.01354946 0.0220806  0.01354946 0.03061174 0.01781503 0.01781503\n",
      " 0.01781503 0.01781503]\n",
      "Seuil = 10  : \n",
      " [0.34677892 0.65276494 0.33475327 0.33475327 0.33475327 0.33876182\n",
      " 0.01273304 0.02075014 0.01273304 0.02876724 0.01674159 0.01674159\n",
      " 0.01674159 0.01674159]\n"
     ]
    }
   ],
   "source": [
    "for i in range (2,12,2) : \n",
    "    seuil = i\n",
    "    print(\"Seuil =\",i,\" : \\n\",PageRank(graph1, 0.85, seuil))"
   ]
  },
  {
   "cell_type": "markdown",
   "id": "5914bd1a",
   "metadata": {},
   "source": [
    "##### Variation avec seuil entre 40 et 200 : seuil très grand"
   ]
  },
  {
   "cell_type": "code",
   "execution_count": 15,
   "id": "5876ca3e",
   "metadata": {},
   "outputs": [
    {
     "name": "stdout",
     "output_type": "stream",
     "text": [
      "Seuil = 40  : \n",
      " [0.02876724 0.01674159 0.01674159 0.01674159 0.01674159 0.33876182\n",
      " 0.01273304 0.02075014 0.01273304 0.34677892 0.33475327 0.33475327\n",
      " 0.33475327 0.65276494]\n",
      "Seuil = 80  : \n",
      " [0.03061174 0.01781503 0.01781503 0.01781503 0.01781503 0.69888447\n",
      " 0.01354946 0.0220806  0.01354946 0.03061174 0.35621697 0.35621697\n",
      " 0.35621697 0.35621697]\n",
      "Seuil = 120  : \n",
      " [0.04320579 0.02222012 0.02222012 0.02222012 0.02222012 0.02921534\n",
      " 0.57017929 0.58416973 0.57017929 0.04320579 0.02222012 0.02222012\n",
      " 0.02222012 0.02222012]\n",
      "Seuil = 160  : \n",
      " [0.02876724 0.01674159 0.01674159 0.01674159 0.01674159 0.33876182\n",
      " 0.01273304 0.02075014 0.01273304 0.34677892 0.65276494 0.33475327\n",
      " 0.33475327 0.33475327]\n",
      "Seuil = 200  : \n",
      " [0.04320579 0.02222012 0.02222012 0.02222012 0.02222012 0.02921534\n",
      " 0.57017929 0.58416973 0.57017929 0.04320579 0.02222012 0.02222012\n",
      " 0.02222012 0.02222012]\n"
     ]
    }
   ],
   "source": [
    "for i in range (40,201,40) : \n",
    "    print(\"Seuil =\",i,\" : \\n\",PageRank(graph1, 0.85, i))"
   ]
  },
  {
   "cell_type": "markdown",
   "id": "297d0e9e",
   "metadata": {},
   "source": [
    "Il est logique que au plus le seuil est petit, au plus l'approximation est proche du score exact. Ainsi, on prendra ce score comme référence pour observer l'écart des autres.\n",
    "\n",
    "En observation, on remarque que certains score oscillent puisqu'ils augmentent grandement puis réduisent grandement lorsqu'on augmente ou diminue le seuil. Voir : seuil de 1e-4 à 1e-10. On en déduit que le score véritable est dans cette intervalle. Si on se concentre sur le score du sommet 2, on voit qu'à un petit seuil le score oscille entre 0.652 et 0.016. Ensuite, si l'on regarde son score à un seuil de 1e-200 où le score est de 0.0167, notre hypothèse se confirme.\n",
    "\n",
    "Certains scores supposés bas sont anormalements élevés à certains seuils tandis que d'autres supposés hauts sont anormalements bas. Peut être notre algorithme présente-t-il un problème. \n",
    "\n",
    "On observe aussi qu'au plus le seuil est élevé, au plus les scores sont proches. Voir : seuil très grand. On constate que l'étendue pour le seuil à 200 par exemple va de 0.22 à 0.58 tandis que pour le seuil à 1e-200 elle va de 0.016 à 0.65. Cette propriété nous confirme qu'un seuil très bas est plus juste.\n",
    "\n",
    "Nous avons ainsi regardé une quantité suffisantes de plusieurs cas divers et avons apporté des conclusions à chacune de nos observations."
   ]
  },
  {
   "cell_type": "markdown",
   "id": "8195565a",
   "metadata": {},
   "source": [
    "### 2) Influence des Hubs et des Autorités"
   ]
  },
  {
   "cell_type": "markdown",
   "id": "880d7e7e",
   "metadata": {},
   "source": [
    "Pour cette analyse, nous devrons créer une nouvelle matrice d'adjacence qui représentera un graphe avec des hubs (sommet avec beaucoup d'arcs sortants) et des autorités (sommet avec beaucoup d'arcs entrants)."
   ]
  },
  {
   "cell_type": "code",
   "execution_count": null,
   "id": "5774a96f",
   "metadata": {},
   "outputs": [],
   "source": [
    "graph3 = np.array([])"
   ]
  },
  {
   "cell_type": "markdown",
   "id": "ee44bfba",
   "metadata": {},
   "source": [
    "### 3) Méthode d'acroissement du score"
   ]
  },
  {
   "cell_type": "markdown",
   "id": "71d68335",
   "metadata": {},
   "source": [
    "Trouvons une méthode pour accroîte le score d'une page et testons la."
   ]
  },
  {
   "cell_type": "markdown",
   "id": "1020e9c1",
   "metadata": {},
   "source": [
    "### 4) Influence du facteur d'amortissement"
   ]
  },
  {
   "cell_type": "markdown",
   "id": "c24764b7",
   "metadata": {},
   "source": [
    "Finalement, nous allons faire varier le facteur d'amortissement en utilisant un même graphe et seuil pour voir les différences des résultat pour enfin les interpréter. "
   ]
  },
  {
   "cell_type": "code",
   "execution_count": null,
   "id": "483e24e5",
   "metadata": {},
   "outputs": [],
   "source": [
    "for i in range (1,101,20) : \n",
    "    alpha = 1/i\n",
    "    print(\"Facteur d'amortissement =\",alpha,\" : \\n\",PageRank(graph1, alpha, 1e-100))"
   ]
  },
  {
   "cell_type": "markdown",
   "id": "85106e08",
   "metadata": {},
   "source": [
    "## Partie 4 : PageRank - version itérative, analyse"
   ]
  },
  {
   "cell_type": "markdown",
   "id": "444bdf9a",
   "metadata": {},
   "source": [
    "### 1)"
   ]
  },
  {
   "cell_type": "code",
   "execution_count": null,
   "id": "1a393c39",
   "metadata": {},
   "outputs": [],
   "source": [
    "# Matrices"
   ]
  },
  {
   "cell_type": "markdown",
   "id": "9aa991f4",
   "metadata": {},
   "source": [
    "### 2)"
   ]
  },
  {
   "cell_type": "code",
   "execution_count": null,
   "id": "be6f557c",
   "metadata": {},
   "outputs": [],
   "source": [
    "Réponse"
   ]
  },
  {
   "cell_type": "markdown",
   "id": "ed973a2b",
   "metadata": {},
   "source": [
    "## Partie 5 : PageRank - calcul direct des scores et comparaison d'algorithmes"
   ]
  },
  {
   "cell_type": "markdown",
   "id": "9cec6e7b",
   "metadata": {},
   "source": [
    "### 1)"
   ]
  },
  {
   "cell_type": "markdown",
   "id": "9ebd8a4b",
   "metadata": {},
   "source": [
    "Pseudo-code de l'algorithme"
   ]
  },
  {
   "cell_type": "markdown",
   "id": "cc964ceb",
   "metadata": {},
   "source": [
    "### 2)"
   ]
  },
  {
   "cell_type": "code",
   "execution_count": null,
   "id": "090db351",
   "metadata": {},
   "outputs": [],
   "source": [
    "Algorithme"
   ]
  },
  {
   "cell_type": "markdown",
   "id": "123bb441",
   "metadata": {},
   "source": [
    "### 3)"
   ]
  },
  {
   "cell_type": "markdown",
   "id": "15039b92",
   "metadata": {},
   "source": [
    "Comparaison"
   ]
  },
  {
   "cell_type": "markdown",
   "id": "dede1986",
   "metadata": {},
   "source": [
    "### 4)"
   ]
  },
  {
   "cell_type": "markdown",
   "id": "b6f0258e",
   "metadata": {},
   "source": [
    "Comparaison"
   ]
  },
  {
   "cell_type": "markdown",
   "id": "54efc846",
   "metadata": {},
   "source": [
    "## Partie 6 : PageRank - matrice du langage"
   ]
  },
  {
   "cell_type": "markdown",
   "id": "5a148806",
   "metadata": {},
   "source": [
    "Bonus"
   ]
  },
  {
   "cell_type": "markdown",
   "id": "f7800b98",
   "metadata": {},
   "source": [
    "## Conclusion : Participations "
   ]
  },
  {
   "cell_type": "code",
   "execution_count": null,
   "id": "4780e11f",
   "metadata": {},
   "outputs": [],
   "source": []
  }
 ],
 "metadata": {
  "kernelspec": {
   "display_name": "Python 3 (ipykernel)",
   "language": "python",
   "name": "python3"
  },
  "language_info": {
   "codemirror_mode": {
    "name": "ipython",
    "version": 3
   },
   "file_extension": ".py",
   "mimetype": "text/x-python",
   "name": "python",
   "nbconvert_exporter": "python",
   "pygments_lexer": "ipython3",
   "version": "3.10.9"
  }
 },
 "nbformat": 4,
 "nbformat_minor": 5
}
