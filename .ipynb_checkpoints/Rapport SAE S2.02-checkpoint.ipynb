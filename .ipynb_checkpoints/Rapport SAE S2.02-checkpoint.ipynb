{
 "cells": [
  {
   "cell_type": "markdown",
   "id": "6f04f881",
   "metadata": {},
   "source": [
    "# Rapport SAE S2.02"
   ]
  },
  {
   "cell_type": "code",
   "execution_count": 3,
   "id": "cdb0fdf0",
   "metadata": {},
   "outputs": [],
   "source": [
    "import numpy as np\n",
    "import random"
   ]
  },
  {
   "cell_type": "markdown",
   "id": "aad82e72",
   "metadata": {},
   "source": [
    "Groupe G4-E : \n",
    "    Bougeard Bastien,\n",
    "    Delin Alexis,\n",
    "    Rouge Gabriel"
   ]
  },
  {
   "cell_type": "code",
   "execution_count": 4,
   "id": "e256b9ee",
   "metadata": {},
   "outputs": [],
   "source": [
    "def PageRank (i, N, c, r) :\n",
    "    # Donne le nombre de liens présents sur la page j\n",
    "    # i : page pointant sur la page j\n",
    "    # c : matrice d'adjacence du graphe \n",
    "    #     où un sommet est un site \n",
    "    #     et un arc est un hyperlien\n",
    "    res = 0\n",
    "    for j in range (N.size-1) : \n",
    "        res += ((c.get(i).get(j))/(N.get(j)))*r.get(j)\n",
    "    return res"
   ]
  },
  {
   "cell_type": "markdown",
   "id": "66df0521",
   "metadata": {},
   "source": [
    "## Partie 1 : PageRank - version itérative, premier exemple"
   ]
  },
  {
   "cell_type": "markdown",
   "id": "346c764f",
   "metadata": {},
   "source": [
    "### 1)"
   ]
  },
  {
   "cell_type": "markdown",
   "id": "035dedc7",
   "metadata": {},
   "source": [
    "Une fois ce graphe convertit en matrice d'adjacence, nous pouvons lui appliquer l'algorithme de la puissance itérée. Il sert à trouver une approximation d uvecteur propre d'une matrice. Ainsi, chaque valeur propre du vecteur correspond à un sommet, soit au score de la page Web signifiée par ledit sommet."
   ]
  },
  {
   "cell_type": "markdown",
   "id": "343a5b80",
   "metadata": {},
   "source": [
    "### 2)"
   ]
  },
  {
   "cell_type": "code",
   "execution_count": 47,
   "id": "801343d1",
   "metadata": {},
   "outputs": [],
   "source": [
    "def norme (X) :\n",
    "    # Donne la norme de X\n",
    "    # X : vecteur\n",
    "    res = 0\n",
    "    for i in X :\n",
    "        res += i**2\n",
    "    return np.sqrt(res)\n",
    "\n",
    "def puissanceIteree(M, seuil):\n",
    "    # Algorithme de puissance itérée\n",
    "    # M : matrice de taille N sur N\n",
    "    # seuil : très petit nombre décimal tel 1e-10\n",
    "    x = M[random.randint(0,len(M)-1)]\n",
    "    x1 = 1/norme(x.dot(M))*x.dot(M)\n",
    "    while norme(x1-x) > seuil  :\n",
    "        x = x1\n",
    "        x1 = 1/norme(x.dot(M))*x.dot(M)\n",
    "    return x1\n",
    "\n",
    "def matriceDeTransition(mat):\n",
    "    # Donne la matrice de tranisition de mat\n",
    "    # note : .dot permet de faire un produit de deux np.array\n",
    "    N = len(mat)\n",
    "    Q = np.zeros((N,N))\n",
    "    for i in range(N):\n",
    "        for j in range(len(mat[i])):\n",
    "            Nj = np.sum(mat[i])\n",
    "            if Nj!=0:\n",
    "                Q[i][j] = mat[i][j]/Nj\n",
    "            else:\n",
    "                Q[i][j] = 0\n",
    "    return Q"
   ]
  },
  {
   "cell_type": "code",
   "execution_count": 52,
   "id": "694a4ced",
   "metadata": {},
   "outputs": [
    {
     "name": "stdout",
     "output_type": "stream",
     "text": [
      "[0.41959068 0.16783627 0.16783627 0.16783627 0.16783627 0.50350882\n",
      " 0.16783627 0.33567254 0.16783627 0.41959068 0.16783627 0.16783627\n",
      " 0.16783627 0.16783627]\n"
     ]
    }
   ],
   "source": [
    "# Matrice d'adjascence du graphe donné où N = 14\n",
    "graph1 = np.array([[0,1,1,1,1,1,0,0,0,0,0,0,0,0]\n",
    "                  ,[1,0,1,0,0,0,0,0,0,0,0,0,0,0]\n",
    "                  ,[1,0,0,1,0,0,0,0,0,0,0,0,0,0]\n",
    "                  ,[1,0,0,0,1,0,0,0,0,0,0,0,0,0]\n",
    "                  ,[1,1,0,0,0,0,0,0,0,0,0,0,0,0]\n",
    "                  ,[0,0,0,0,0,0,1,1,1,0,0,0,0,0]\n",
    "                  ,[1,0,0,0,0,0,0,1,0,0,0,0,0,0]\n",
    "                  ,[0,0,0,0,0,1,0,0,0,0,0,0,0,0]\n",
    "                  ,[0,0,0,0,0,0,0,1,0,1,0,0,0,0]\n",
    "                  ,[0,0,0,0,0,1,0,0,0,0,1,1,1,1]\n",
    "                  ,[0,0,0,0,0,0,0,0,0,1,0,1,0,0]\n",
    "                  ,[0,0,0,0,0,0,0,0,0,1,0,0,1,0]\n",
    "                  ,[0,0,0,0,0,0,0,0,0,1,0,0,0,1]\n",
    "                  ,[0,0,0,0,0,0,0,0,0,1,1,0,0,0]])\n",
    "\n",
    "tmpMat = matriceDeTransition(graph1)\n",
    "print(puissanceIteree(tmpMat, 1e-10))"
   ]
  },
  {
   "cell_type": "markdown",
   "id": "33fa64e1",
   "metadata": {},
   "source": [
    "### 3)"
   ]
  },
  {
   "cell_type": "markdown",
   "id": "7f9a868e",
   "metadata": {},
   "source": [
    "Le vecteur propre est comme attendu de taille N (14) soit la taille du graphe que représente la matrice d'adjacence. Ainsi, chaque valeur propre correspond au score d'un sommet du graphe. \n",
    "\n",
    "On observe en effet que le sommet 1, 6 et 8 ont un score plus élevé que les autres puisqu'ils ont une quantité importante d'arcs orientés vers eux. A l'inverse, les autres sommets ont tous un seul arc entrant et ont donc tous le même score ( environ 1,7 ).\n",
    "\n",
    "Puisque le résultat est cohérent, on en déduit que l'algorithme implémenté fonctionne, jusqu'à preuve du contraire."
   ]
  },
  {
   "cell_type": "markdown",
   "id": "11837a74",
   "metadata": {},
   "source": [
    "## Partie 2 : PageRank - version itérative, deuxième exemple"
   ]
  },
  {
   "cell_type": "markdown",
   "id": "797a9af0",
   "metadata": {},
   "source": [
    "### 1)"
   ]
  },
  {
   "cell_type": "code",
   "execution_count": 54,
   "id": "330572c4",
   "metadata": {},
   "outputs": [
    {
     "name": "stdout",
     "output_type": "stream",
     "text": [
      "[nan nan nan nan nan]\n"
     ]
    },
    {
     "name": "stderr",
     "output_type": "stream",
     "text": [
      "C:\\Users\\Gabriel\\AppData\\Local\\Temp\\ipykernel_63332\\2238870259.py:17: RuntimeWarning: divide by zero encountered in double_scalars\n",
      "  x1 = 1/norme(x.dot(M))*x.dot(M)\n",
      "C:\\Users\\Gabriel\\AppData\\Local\\Temp\\ipykernel_63332\\2238870259.py:17: RuntimeWarning: invalid value encountered in multiply\n",
      "  x1 = 1/norme(x.dot(M))*x.dot(M)\n"
     ]
    }
   ],
   "source": [
    "# Matrice d'adjascence du graphe donné où N = 5\n",
    "graph2 = np.array([[0,0,0,0,0],\n",
    "                  [1,0,0,0,0],\n",
    "                  [1,0,0,0,0],\n",
    "                  [1,1,1,0,0],\n",
    "                  [1,1,0,0,0]])\n",
    "\n",
    "tmpMat = matriceDeTransition(graph2)\n",
    "print(puissanceIteree(tmpMat, 1e-10))"
   ]
  },
  {
   "cell_type": "markdown",
   "id": "4a43555c",
   "metadata": {},
   "source": [
    "On observe que la fonction provoque avec ce graphe en paramètre un message d'erreur de type division par 0. \n",
    "\n",
    "La raison de cette erreur est [...]\n",
    "\n",
    "On en conclue que notre algorithme est à revoir puisqu'il ne devrait pas présenter d'erreur."
   ]
  },
  {
   "cell_type": "markdown",
   "id": "598540c9",
   "metadata": {},
   "source": [
    "### 2)"
   ]
  },
  {
   "cell_type": "code",
   "execution_count": 1,
   "id": "5e85ca47",
   "metadata": {},
   "outputs": [],
   "source": [
    "# Algorithme"
   ]
  },
  {
   "cell_type": "markdown",
   "id": "eefc3690",
   "metadata": {},
   "source": [
    "## Partie 3 : PageRank - version itérative, analyse"
   ]
  },
  {
   "cell_type": "markdown",
   "id": "6c7ccfa0",
   "metadata": {},
   "source": [
    "### 1)"
   ]
  },
  {
   "cell_type": "markdown",
   "id": "e5c8be3e",
   "metadata": {},
   "source": [
    "Analyse"
   ]
  },
  {
   "cell_type": "markdown",
   "id": "8195565a",
   "metadata": {},
   "source": [
    "### 2)"
   ]
  },
  {
   "cell_type": "markdown",
   "id": "880d7e7e",
   "metadata": {},
   "source": [
    "Analyse"
   ]
  },
  {
   "cell_type": "markdown",
   "id": "ee44bfba",
   "metadata": {},
   "source": [
    "### 3)"
   ]
  },
  {
   "cell_type": "markdown",
   "id": "71d68335",
   "metadata": {},
   "source": [
    "Réponse"
   ]
  },
  {
   "cell_type": "markdown",
   "id": "1020e9c1",
   "metadata": {},
   "source": [
    "### 4)"
   ]
  },
  {
   "cell_type": "code",
   "execution_count": null,
   "id": "9da209be",
   "metadata": {},
   "outputs": [],
   "source": [
    "Algorithme"
   ]
  },
  {
   "cell_type": "markdown",
   "id": "85106e08",
   "metadata": {},
   "source": [
    "## Partie 4 : PageRank - version itérative, analyse"
   ]
  },
  {
   "cell_type": "markdown",
   "id": "444bdf9a",
   "metadata": {},
   "source": [
    "### 1)"
   ]
  },
  {
   "cell_type": "code",
   "execution_count": null,
   "id": "1a393c39",
   "metadata": {},
   "outputs": [],
   "source": [
    "# Matrices"
   ]
  },
  {
   "cell_type": "markdown",
   "id": "9aa991f4",
   "metadata": {},
   "source": [
    "### 2)"
   ]
  },
  {
   "cell_type": "code",
   "execution_count": null,
   "id": "be6f557c",
   "metadata": {},
   "outputs": [],
   "source": [
    "Réponse"
   ]
  },
  {
   "cell_type": "markdown",
   "id": "ed973a2b",
   "metadata": {},
   "source": [
    "## Partie 5 : PageRank - calcul direct des scores et comparaison d'algorithmes"
   ]
  },
  {
   "cell_type": "markdown",
   "id": "9cec6e7b",
   "metadata": {},
   "source": [
    "### 1)"
   ]
  },
  {
   "cell_type": "code",
   "execution_count": null,
   "id": "35f7376d",
   "metadata": {},
   "outputs": [],
   "source": [
    "Algorithme"
   ]
  },
  {
   "cell_type": "markdown",
   "id": "cc964ceb",
   "metadata": {},
   "source": [
    "### 2)"
   ]
  },
  {
   "cell_type": "code",
   "execution_count": null,
   "id": "090db351",
   "metadata": {},
   "outputs": [],
   "source": [
    "Algorithme"
   ]
  },
  {
   "cell_type": "markdown",
   "id": "123bb441",
   "metadata": {},
   "source": [
    "### 3)"
   ]
  },
  {
   "cell_type": "markdown",
   "id": "15039b92",
   "metadata": {},
   "source": [
    "Comparaison"
   ]
  },
  {
   "cell_type": "markdown",
   "id": "dede1986",
   "metadata": {},
   "source": [
    "### 4)"
   ]
  },
  {
   "cell_type": "markdown",
   "id": "b6f0258e",
   "metadata": {},
   "source": [
    "Comparaison"
   ]
  },
  {
   "cell_type": "markdown",
   "id": "54efc846",
   "metadata": {},
   "source": [
    "## Partie 6 : PageRank - matrice du langage"
   ]
  },
  {
   "cell_type": "markdown",
   "id": "5a148806",
   "metadata": {},
   "source": [
    "Bonus"
   ]
  },
  {
   "cell_type": "markdown",
   "id": "f7800b98",
   "metadata": {},
   "source": [
    "## Conclusion : Participations "
   ]
  },
  {
   "cell_type": "code",
   "execution_count": null,
   "id": "4780e11f",
   "metadata": {},
   "outputs": [],
   "source": []
  }
 ],
 "metadata": {
  "kernelspec": {
   "display_name": "Python 3 (ipykernel)",
   "language": "python",
   "name": "python3"
  },
  "language_info": {
   "codemirror_mode": {
    "name": "ipython",
    "version": 3
   },
   "file_extension": ".py",
   "mimetype": "text/x-python",
   "name": "python",
   "nbconvert_exporter": "python",
   "pygments_lexer": "ipython3",
   "version": "3.10.9"
  }
 },
 "nbformat": 4,
 "nbformat_minor": 5
}
